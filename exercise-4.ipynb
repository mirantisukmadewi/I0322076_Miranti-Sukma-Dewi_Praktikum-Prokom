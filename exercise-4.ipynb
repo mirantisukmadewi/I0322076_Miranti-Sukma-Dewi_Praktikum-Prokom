{
 "cells": [
  {
   "cell_type": "code",
   "execution_count": 1,
   "metadata": {},
   "outputs": [
    {
     "name": "stdout",
     "output_type": "stream",
     "text": [
      "Miranti Sukma Dewi\n",
      "I0322076\n",
      "C\n"
     ]
    }
   ],
   "source": [
    "print(input(\"Nama: \"))\n",
    "print(input(\"NIM: \"))\n",
    "print(input(\"Kelas: \"))"
   ]
  },
  {
   "attachments": {},
   "cell_type": "markdown",
   "metadata": {},
   "source": [
    "## 1."
   ]
  },
  {
   "attachments": {},
   "cell_type": "markdown",
   "metadata": {},
   "source": [
    "Buatlah program yang menampilkan tarif pajak yang harus dibayarkan oleh user dengan input yaitu nama user dan pendapatan dari user.<br>\n",
    "Dengan ketentuan sebagai berikut:\n",
    "* Jika pendapatan kurang dari atau sama dengan 10 juta, maka tarif pajak adalah 2,5%\n",
    "* Jika pendapatan kurang dari atau sama dengan 20 juta, maka tarif pajak adalah 5%\n",
    "* Jika pendapatan kurang dari atau sama dengan 50 juta, maka tarif pajak adalah 10%.\n",
    "* Jika pendapatan lebih dari 50 juta, maka tarif pajak adalah 12,5%.\n",
    "> *note: Kerjakan soal ini dengan percabangan*"
   ]
  },
  {
   "cell_type": "code",
   "execution_count": 3,
   "metadata": {},
   "outputs": [
    {
     "name": "stdout",
     "output_type": "stream",
     "text": [
      "nama mira pendapatan Rp. 51000000 tarif pajak sebesar Rp. 6375000.0\n"
     ]
    }
   ],
   "source": [
    "# Kerjakan soal no 1 di sini\n",
    "#variabel untuk user mengimput nama dan pendapatan\n",
    "nama = str(input('nama :'))\n",
    "pendapatan= int(input('pendapatan :'))\n",
    "\n",
    "if pendapatan <=10000000:\n",
    "    total = pendapatan*25/1000\n",
    "    print(\"nama\",nama,'pendapatan','Rp.',pendapatan,\"tarif pajak sebesar\",'Rp.',total)\n",
    "elif pendapatan <= 20000000 :\n",
    "    total = pendapatan*5/100\n",
    "    print(\"nama\",nama,'pendapatan','Rp.',pendapatan,\"tarif pajak sebesar\",'Rp.',total)\n",
    "elif pendapatan <= 50000000 :\n",
    "    total = pendapatan*10/100\n",
    "    print(\"nama\",nama,'pendapatan','Rp.',pendapatan,\"tarif pajak sebesar\",'Rp.',total)\n",
    "else:\n",
    "    total = pendapatan*125/1000\n",
    "    print(\"nama\",nama,'pendapatan','Rp.',pendapatan,\"tarif pajak sebesar\",'Rp.',total)\n",
    "\n"
   ]
  },
  {
   "attachments": {},
   "cell_type": "markdown",
   "metadata": {},
   "source": [
    "## 2."
   ]
  },
  {
   "attachments": {},
   "cell_type": "markdown",
   "metadata": {},
   "source": [
    "Buatlah program yang menampilkan akan melakukan validasi apakah mahasiswa tersebut berasal dari TI UNS berdasarkan NIM yang diinput oleh user:\n",
    "<br>Dengan ketentuan sebagai berikut:\n",
    "* NIM mahasiswa TI harus dimulai dengan \"I03\" dengan total panjang 8 karakter (I0320078 adalah contoh NIM mahasiswa TI UNS)\n",
    "* Program akan menampilkan pesan \"NIM mahasiswa TI UNS\" jika NIM yang dimasukkan sesuai dengan format yang dijelaskan di atas, dan akan menampilkan pesan \"NIM Anda tidak valid\" jika tidak sesuai.\n",
    "> *note: Kerjakan soal ini dengan percabangan*"
   ]
  },
  {
   "cell_type": "code",
   "execution_count": 5,
   "metadata": {},
   "outputs": [
    {
     "name": "stdout",
     "output_type": "stream",
     "text": [
      "I0322076 NIM mahasiswa TI UNS\n"
     ]
    }
   ],
   "source": [
    "# Kerjakan soal no 2 di sini\n",
    "#variabel untuk mengimput NIM \n",
    "nim_mahasiswa = input('Masukan NIM mahasiswa: ')\n",
    "\n",
    "if len(nim_mahasiswa) == 8 and nim_mahasiswa [:3] == 'I03':\n",
    "    print(nim_mahasiswa,'NIM mahasiswa TI UNS')\n",
    "else:\n",
    "    print(nim_mahasiswa,'NIM Anda tidak valid')"
   ]
  }
 ],
 "metadata": {
  "kernelspec": {
   "display_name": "Python 3",
   "language": "python",
   "name": "python3"
  },
  "language_info": {
   "codemirror_mode": {
    "name": "ipython",
    "version": 3
   },
   "file_extension": ".py",
   "mimetype": "text/x-python",
   "name": "python",
   "nbconvert_exporter": "python",
   "pygments_lexer": "ipython3",
   "version": "3.10.8"
  },
  "orig_nbformat": 4
 },
 "nbformat": 4,
 "nbformat_minor": 2
}
