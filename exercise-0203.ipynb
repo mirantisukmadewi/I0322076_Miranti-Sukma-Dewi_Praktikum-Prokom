{
 "cells": [
  {
   "cell_type": "code",
   "execution_count": 1,
   "metadata": {},
   "outputs": [
    {
     "name": "stdout",
     "output_type": "stream",
     "text": [
      "Miranti Sukma Dewi\n",
      "I0322076\n",
      "C\n"
     ]
    }
   ],
   "source": [
    "print(input(\"Nama: \"))\n",
    "print(input(\"NIM: \"))\n",
    "print(input(\"Kelas: \"))"
   ]
  },
  {
   "attachments": {},
   "cell_type": "markdown",
   "metadata": {},
   "source": [
    "## 1."
   ]
  },
  {
   "attachments": {},
   "cell_type": "markdown",
   "metadata": {},
   "source": [
    "buatlah program sederhana untuk:\n",
    "* **A** mencari massa jika diketahui nilai energi potensial, percepatan gravitasi, dan ketinggian benda! beserta rumus nya!\n",
    "* **B** mencari gaya apung jika diketahui massa jenis, tinggi, panjang, dan lebar benda serta percepatan gravitasi dan contohnya! beserta rumus nya!\n",
    "* **C** Tulis program Python untuk menghitung luas dari segi lima sama sisi!\n",
    "\n",
    "> *note* : rumus, contoh, dan nilai dari tiap variabel ditentukan oleh kalian sendiri dan gunakan satuan baku (SI) untuk menghitung nilai dari tiap variabel"
   ]
  },
  {
   "cell_type": "code",
   "execution_count": 57,
   "metadata": {},
   "outputs": [
    {
     "name": "stdout",
     "output_type": "stream",
     "text": [
      "Diketahui : \n",
      "Energi Potensial = 2000 J \n",
      "gravitasi = 10 m/s**2  \n",
      "Ketinggian benda= 20 m\n",
      "====================================\n",
      "Ditanya = massa benda?\n",
      "====================================\n",
      "Penyelesaian : \n",
      "Rumus = ep / (g * h ) \n",
      "=====================================\n",
      "massa benda : 2000 / 10 * 20 = 10.0 kg\n"
     ]
    }
   ],
   "source": [
    "\n",
    "# diketahui nilai energi potensial, percepatan gravitasi dan ketinggian benda\n",
    "ep = 2000 \n",
    "g = 10   \n",
    "h= 20 \n",
    "print(\"Diketahui : \\nEnergi Potensial = 2000 J \\ngravitasi = 10 m/s**2  \\nKetinggian benda= 20 m\")\n",
    "print('====================================')\n",
    "\n",
    "#ditanya\n",
    "print(\"Ditanya = massa benda?\")\n",
    "print('====================================')\n",
    "\n",
    "# menghitung nilai massa benda\n",
    "hasil = ep / (g * h )\n",
    "print(\"Penyelesaian : \\nRumus = ep / (g * h ) \")\n",
    "print(\"=====================================\")\n",
    "\n",
    "# mem-print massa benda\n",
    "print('massa benda :',ep,'/',g,'*',h,'=',hasil,'kg')"
   ]
  },
  {
   "cell_type": "code",
   "execution_count": 51,
   "metadata": {},
   "outputs": [
    {
     "name": "stdout",
     "output_type": "stream",
     "text": [
      "Diketahui : \n",
      "massa_jenis = 1000 kg/m**3 \n",
      "tinggi= 0.4 m \n",
      "panjang = 2.5 m \n",
      "lebar = 0.5 m \n",
      "gravitasi = 10 m/s**2 \n",
      "====================================\n",
      "Penyelesaian : \n",
      "Rumus Gaya Apung = (panjang*lebar*tinggi) * massa_jenis * gravitasi\n",
      "====================================\n",
      "gaya apung benda : 2.5 * 0.5 * 0.4 * 1000 * 10 = 5000.0 Newton\n"
     ]
    }
   ],
   "source": [
    "#diketahui nilai massa jenis, tinggi benda, panjang benda, lebar benda, percepatan gravitasi\n",
    "massa_jenis = 1000\n",
    "tinggi= 0.4 \n",
    "panjang = 2.5\n",
    "lebar = 0.5\n",
    "gravitasi = 10 \n",
    "print(\"Diketahui : \\nmassa_jenis = 1000 kg/m^3 \\ntinggi= 0.4 m \\npanjang = 2.5 m \\nlebar = 0.5 m \\ngravitasi = 10 m/s^2 \")\n",
    "print(\"====================================\")\n",
    "\n",
    "#menghitung nilai gaya apung benda\n",
    "print(\"Penyelesaian : \\nRumus Gaya Apung = (panjang*lebar*tinggi) * massa_jenis * gravitasi\")\n",
    "gaya_apung = (panjang*lebar*tinggi) * massa_jenis * gravitasi\n",
    "print(\"====================================\")\n",
    "\n",
    "#mem-print nilai gaya apung benda\n",
    "print('gaya apung benda :',panjang,'*',lebar,'*',tinggi,'*',massa_jenis,'*',gravitasi,'=',gaya_apung,'Newton')\n"
   ]
  },
  {
   "cell_type": "code",
   "execution_count": 64,
   "metadata": {},
   "outputs": [
    {
     "name": "stdout",
     "output_type": "stream",
     "text": [
      "Diketahui: \n",
      "sisi = 10cm\n",
      "==============================\n",
      "Penyelesaian : \n",
      "Luas segilima = 1/4*(math.sqrt(5*(5+2*(math.sqrt(5)))))*(sisi**2) \n",
      "Luas segilima = 61.93718642120281 cm^2\n"
     ]
    }
   ],
   "source": [
    "#variabel panjang sisi segilima sama sisi\n",
    "import math\n",
    "sisi = 6\n",
    "print('Diketahui: \\nsisi = 10cm')\n",
    "print('==============================')\n",
    "\n",
    "#menghitung luas segilima sama sisi\n",
    "luas_segilima = 1/4*(math.sqrt(5*(5+2*(math.sqrt(5)))))*(sisi**2)\n",
    "print(\"Penyelesaian : \\nLuas segilima = 1/4*(math.sqrt(5*(5+2*(math.sqrt(5)))))*(sisi**2) \")\n",
    "\n",
    "#memprint nilai luas segilima\n",
    "print('Luas segilima =',luas_segilima,'cm^2')\n",
    "\n"
   ]
  },
  {
   "attachments": {},
   "cell_type": "markdown",
   "metadata": {},
   "source": [
    "## 2."
   ]
  },
  {
   "attachments": {},
   "cell_type": "markdown",
   "metadata": {},
   "source": [
    "Taman bermain ANCOL memiliki berbagai wahana, salah satunya adalah bianglala. Harga tiket yang dijual berbeda tergantung dengan kategori nya. Harga tiket bagi orang dewasa atau yang berumur lebih dari 17 tahun adalah Rp 110.000 , harga tiket untuk anak-anak usia 6-16 tahun adalah Rp. 75.000 , sedangkan untuk usia dibawahnya tidak dikenakan biaya. Pada wahana bianglala sedang ada \"Promo RAMADHAN\" sebesar 20% bagi pembelian tiket lebih dari 2 pcs.\n",
    "\n",
    "Keluarga Anya Forger ingin menaiki wahana bianglala tersebut, Anya (usia 18 tahun) pergi bersama ayah dan ibunya beserta dua adiknya, Harry (usia 8 tahun) dan Taylor (usia 4 tahun). \n",
    "\n",
    "> Buatlah program sederhana untuk menghitung harga total dari pembelian tiket  oleh keluarga Anya dan harga tiket setelah mendapatkan diskon"
   ]
  },
  {
   "cell_type": "code",
   "execution_count": 65,
   "metadata": {},
   "outputs": [
    {
     "name": "stdout",
     "output_type": "stream",
     "text": [
      "Diketahui : \n",
      "dewasa = Rp. 110000 \n",
      "anak-anak = Rp. 75000 \n",
      "promo = 20%\n",
      "=======================================================\n",
      "Penyelesaian : \n",
      "Total harga tiket keluarga = 3*dewasa + 1*anak_anak + 1*0 \n",
      "Total harga tiket keluarga = 3 * 110000 + 1 * 75000 + 1 * 0 = Rp. 405000\n",
      "==========================================\n",
      "Potongan harga yang diperoleh : 3 * 110000 + 1 * 75000 + 1 * 0 * 20 / 100 = Rp. 81000.0\n",
      "===========================================\n",
      "Total harga tiket yang harus dibayar : Rp. 324000.0\n"
     ]
    }
   ],
   "source": [
    "#harga tiket bianglala\n",
    "dewasa = 110000\n",
    "anak_anak = 75000\n",
    "promo = 20/100\n",
    "print(\"Diketahui : \\ndewasa = Rp. 110000 \\nanak-anak = Rp. 75000 \\npromo = 20%\")\n",
    "print('=======================================================')\n",
    "\n",
    "#menghitung total harga tiket keluarga anya\n",
    "harga_total = 3*dewasa + 1*anak_anak + 1*0 \n",
    "print('Penyelesaian : \\nTotal harga tiket keluarga = 3*dewasa + 1*anak_anak + 1*0 ')\n",
    "print('Total harga tiket keluarga =',3,'*',dewasa,'+',1,'*',anak_anak,'+',1,'*',0,'=','Rp.',harga_total)\n",
    "print('==========================================')\n",
    "\n",
    "#menghitung potongan harga \n",
    "diskon = (3*dewasa + 1*anak_anak + 1*0)*20/100\n",
    "print('Potongan harga yang diperoleh :',3,'*',dewasa,'+',1,'*',anak_anak,'+',1,'*',0,'*',20,'/',100,'=','Rp.',diskon)\n",
    "print('===========================================')\n",
    "\n",
    "#total harga yang harus dibayar\n",
    "print('Total harga tiket yang harus dibayar :','Rp.',harga_total - diskon)"
   ]
  },
  {
   "attachments": {},
   "cell_type": "markdown",
   "metadata": {},
   "source": [
    "## 3. "
   ]
  },
  {
   "cell_type": "code",
   "execution_count": null,
   "metadata": {},
   "outputs": [],
   "source": [
    "list_aslab = [\n",
    "    {\"nama\": \"Berlian Safri Prakoso\", \"nim\": \"I0320017\", \"kontak\": \"0858XXXXXXXX\"},\n",
    "    {\"nama\": \"Halidya Siti Hanifah\", \"nim\": \"I0320044\", \"kontak\": \"0878XXXXXXXX\"},\n",
    "    {\"nama\": \"Nurki Putra Mahardika\", \"nim\": \"I0320076\", \"kontak\": \"0877XXXXXXXX\"},\n",
    "    {\"nama\": \"Aji Manarul Aziz\", \"nim\": \"I0320119\", \"kontak\": \"0812XXXXXXXX\"},\n",
    "    {\"nama\": \"Alica Ayu Fitriani\", \"nim\": \"I0320121\", \"kontak\": \"0896XXXXXXXX\"},\n",
    "    {\"nama\": \"Dendy Halim Kusuma\", \"nim\": \"I0320125\", \"kontak\": \"0822XXXXXXXX\"}\n",
    "]\n"
   ]
  },
  {
   "attachments": {},
   "cell_type": "markdown",
   "metadata": {},
   "source": [
    "diberikan list aslab sebagai berikut:\n",
    "```python\n",
    "list_aslab = [\n",
    "    {\"nama\": \"Berlian Safri Prakoso\", \"nim\": \"I0320017\", \"kontak\": \"0858XXXXXXXX\"},\n",
    "    {\"nama\": \"Halidya Siti Hanifah\", \"nim\": \"I0320044\", \"kontak\": \"0878XXXXXXXX\"},\n",
    "    {\"nama\": \"Nurki Putra Mahardika\", \"nim\": \"I0320076\", \"kontak\": \"0877XXXXXXXX\"},\n",
    "    {\"nama\": \"Aji Manarul Aziz\", \"nim\": \"I0320119\", \"kontak\": \"0812XXXXXXXX\"},\n",
    "    {\"nama\": \"Alica Ayu Fitriani\", \"nim\": \"I0320121\", \"kontak\": \"0896XXXXXXXX\"},\n",
    "    {\"nama\": \"Dendy Halim Kusuma\", \"nim\": \"I0320125\", \"kontak\": \"0822XXXXXXXX\"}\n",
    "]\n",
    "```\n",
    "* **A** Tuliskan kode untuk mengakses informasi tentang \"nama\" dari semua aslab mulai dari index 1 sampai 5\n",
    "* **B** Tambahkan informasi berikut pada data aslab dan tampilkan hasilnya:\n",
    "```python\n",
    "    surel = [\"berlian@student.uns.ac.id\",\n",
    "          \"halidya@student.uns.ac.id\",\n",
    "          \"nurki@student.uns.ac.id\",\n",
    "          \"manarul@student.uns.ac.id\",\n",
    "          \"alica@student.uns.ac.id\",\n",
    "          \"dendy@student.uns.ac.id\"]\n",
    "```\n",
    "* **C** Hapus nilai pada kunci \"kontak\" pada list aslab dan tampilkan hasilnya\n",
    "> *note: kalian hanya boleh menggunakan key-value pair yang disebutkan di dalam teks, tanpa menggunakan informasi tambahan yang diambil pada list yang ada*"
   ]
  },
  {
   "cell_type": "code",
   "execution_count": 49,
   "metadata": {},
   "outputs": [
    {
     "name": "stdout",
     "output_type": "stream",
     "text": [
      "Halidya Siti Hanifah\n",
      "Nurki Putra Mahardika\n",
      "Aji Manarul Aziz\n",
      "Alica Ayu Fitriani\n",
      "Dendy Halim Kusuma\n",
      "\n"
     ]
    }
   ],
   "source": [
    "#membuat kode akses untuk \"nama\" pada list aslab dari indeks 1 sampai 5\n",
    "list_aslab = [\n",
    "    {\"nama\": \"Berlian Safri Prakoso\", \"nim\": \"I0320017\", \"kontak\": \"0858XXXXXXXX\"},\n",
    "    {\"nama\": \"Halidya Siti Hanifah\", \"nim\": \"I0320044\", \"kontak\": \"0878XXXXXXXX\"},\n",
    "    {\"nama\": \"Nurki Putra Mahardika\", \"nim\": \"I0320076\", \"kontak\": \"0877XXXXXXXX\"},\n",
    "    {\"nama\": \"Aji Manarul Aziz\", \"nim\": \"I0320119\", \"kontak\": \"0812XXXXXXXX\"},\n",
    "    {\"nama\": \"Alica Ayu Fitriani\", \"nim\": \"I0320121\", \"kontak\": \"0896XXXXXXXX\"},\n",
    "    {\"nama\": \"Dendy Halim Kusuma\", \"nim\": \"I0320125\", \"kontak\": \"0822XXXXXXXX\"}\n",
    "]\n",
    "for i in range(1,6):\n",
    "    print(list_aslab[i][\"nama\"])\n",
    "print()\n"
   ]
  },
  {
   "cell_type": "code",
   "execution_count": null,
   "metadata": {},
   "outputs": [],
   "source": [
    "#menambahkan surel pada list aslab\n",
    "surel = [\"berlian@student.uns.ac.id\",\n",
    "          \"halidya@student.uns.ac.id\",\n",
    "          \"nurki@student.uns.ac.id\",\n",
    "          \"manarul@student.uns.ac.id\",\n",
    "          \"alica@student.uns.ac.id\",\n",
    "          \"dendy@student.uns.ac.id\"]\n",
    "\n",
    "for i in range(len(list_aslab)):\n",
    "    list_aslab[i][\"surel\"] = surel[i]\n",
    "\n",
    "for aslab in list_aslab:\n",
    "    print(aslab)\n",
    "print()\n"
   ]
  },
  {
   "cell_type": "code",
   "execution_count": null,
   "metadata": {},
   "outputs": [],
   "source": [
    "#menghapus kunci \"kontak\" pada list aslab\n",
    "for aslab in list_aslab:\n",
    "    del aslab[\"kontak\"]\n",
    "    print(aslab)"
   ]
  }
 ],
 "metadata": {
  "kernelspec": {
   "display_name": "Python 3",
   "language": "python",
   "name": "python3"
  },
  "language_info": {
   "codemirror_mode": {
    "name": "ipython",
    "version": 3
   },
   "file_extension": ".py",
   "mimetype": "text/x-python",
   "name": "python",
   "nbconvert_exporter": "python",
   "pygments_lexer": "ipython3",
   "version": "3.10.8"
  },
  "orig_nbformat": 4,
  "vscode": {
   "interpreter": {
    "hash": "5addf786bcd861d1ce5006f23111f8cbb206731e5b61b0a5632ba9e0252558a8"
   }
  }
 },
 "nbformat": 4,
 "nbformat_minor": 2
}
