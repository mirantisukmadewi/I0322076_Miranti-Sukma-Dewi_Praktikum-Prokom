{
 "cells": [
  {
   "cell_type": "code",
   "execution_count": 1,
   "metadata": {},
   "outputs": [
    {
     "name": "stdout",
     "output_type": "stream",
     "text": [
      "[[1, 2], [3, 4]]\n"
     ]
    }
   ],
   "source": [
    "#Buatlah sebuah fungsi untuk membuat matrix berdasarkan input dari user\n",
    "import numpy as mt\n",
    "def create_matrix(baris,kolom):\n",
    "    global matrix\n",
    "    matrix = [[0 for x in range(kolom)]for y in range(baris)]\n",
    "    for y in range(baris):\n",
    "        for x in range(kolom):\n",
    "            matrix[y][x] = int(input(f\"Masukkan elemen untuk [{y+1}][{x+1}] : \"))\n",
    "    return matrix\n",
    "\n",
    "print(create_matrix(baris=int(input('Masukkan Jumlah Baris:\\t')),\n",
    "      kolom=int(input('Masukkan Jumlah Kolom:\\t'))))"
   ]
  },
  {
   "cell_type": "code",
   "execution_count": 2,
   "metadata": {},
   "outputs": [
    {
     "name": "stdout",
     "output_type": "stream",
     "text": [
      "[[3, 4], [2, 4]]\n"
     ]
    },
    {
     "data": {
      "text/plain": [
       "4"
      ]
     },
     "execution_count": 2,
     "metadata": {},
     "output_type": "execute_result"
    }
   ],
   "source": [
    "#Buatlah sebuah fungsi untuk mencari determinan matrix berdasarkan input matrix dari user\n",
    "\n",
    "baris = int(input('Masukkan Jumlah Baris:\\t'))\n",
    "kolom = int(input('Masukkan Jumlah Kolom:\\t'))\n",
    "create_matrix(baris, kolom)\n",
    "\n",
    "def determinan(matrix):\n",
    "    x = len(matrix)\n",
    "    if x == 1:\n",
    "        return matrix[0][0]\n",
    "    else:\n",
    "        det = 0\n",
    "        for z in range(x):\n",
    "            temp = [row[:z]+row[z+1:] for row in matrix[1:]]\n",
    "            det += (-1)**z * matrix[0][z] * determinan(temp)\n",
    "    return det\n",
    "print(matrix)\n",
    "determinan(matrix)"
   ]
  },
  {
   "cell_type": "code",
   "execution_count": 3,
   "metadata": {},
   "outputs": [
    {
     "name": "stdout",
     "output_type": "stream",
     "text": [
      "matrix 1 = [[3, 2], [4, 5]]\n",
      "matrix 2 = [[1, 3], [5, 3]]\n",
      "[13, 15]\n",
      "[29, 27]\n"
     ]
    }
   ],
   "source": [
    "#Buatlah fungsi untuk mengakalikan dua buah matrix berdasarkan input user menggunakan nested loop\n",
    "\n",
    "def create_matrix1(baris1, kolom1):\n",
    "    global matrix1\n",
    "    matrix1 = [[0 for x in range(kolom1)]for y in range(baris1)]\n",
    "    for y in range(baris1):\n",
    "        for x in range(kolom1):\n",
    "            matrix1[y][x] = int(input(f\"Masukkan elemen untuk [{y+1}][{x+1}] : \"))\n",
    "    return matrix1\n",
    " \n",
    "baris1 = int(input('Masukkan Jumlah Baris M1:\\t'))\n",
    "kolom1 = int(input('Masukkan Jumlah Kolom M1:\\t'))\n",
    "create_matrix1(baris1, kolom1)\n",
    "\n",
    "def create_matrix2(baris2, kolom2):\n",
    "    global matrix2\n",
    "    matrix2 = [[0 for x in range(kolom2)]for y in range(baris2)]\n",
    "    for y in range(baris2):\n",
    "        for x in range(kolom2):\n",
    "            matrix2[y][x] = int(input(f\"Masukkan elemen untuk [{y+1}][{x+1}] : \"))\n",
    "    return matrix2\n",
    "\n",
    "\n",
    "baris2 = int(input('Masukkan Jumlah Baris M2:\\t'))\n",
    "kolom2 = int(input('Masukkan Jumlah Kolom M2:\\t'))\n",
    "create_matrix2(baris2, kolom2)\n",
    "\n",
    "def multiply_matrix(matrix1, matrix2):\n",
    "    m = len(matrix1)\n",
    "    n = len(matrix2[0])\n",
    "    p = len(matrix2)\n",
    "    \n",
    "    result = [[0 for x in range(n)] for y in range(m)]\n",
    "    for y in range(m):\n",
    "        for x in range(n):\n",
    "            for k in range(p):\n",
    "                result[y][x] += matrix1[y][k] * matrix2[k][x]\n",
    "    \n",
    "    for r in result:\n",
    "        print(r)\n",
    "\n",
    "print('matrix 1 =',matrix1)\n",
    "print('matrix 2 =',matrix2)\n",
    "multiply_matrix(matrix1, matrix2)"
   ]
  }
 ],
 "metadata": {
  "kernelspec": {
   "display_name": "Python 3",
   "language": "python",
   "name": "python3"
  },
  "language_info": {
   "codemirror_mode": {
    "name": "ipython",
    "version": 3
   },
   "file_extension": ".py",
   "mimetype": "text/x-python",
   "name": "python",
   "nbconvert_exporter": "python",
   "pygments_lexer": "ipython3",
   "version": "3.10.8"
  },
  "orig_nbformat": 4
 },
 "nbformat": 4,
 "nbformat_minor": 2
}
