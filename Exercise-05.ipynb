{
 "cells": [
  {
   "attachments": {},
   "cell_type": "markdown",
   "metadata": {},
   "source": [
    "1. Buatlah program untuk menghitung pangkat 2 dari angka 1 hingga 50!"
   ]
  },
  {
   "cell_type": "code",
   "execution_count": 9,
   "metadata": {},
   "outputs": [
    {
     "name": "stdout",
     "output_type": "stream",
     "text": [
      "1 pangkat dua adalah 1\n",
      "2 pangkat dua adalah 4\n",
      "3 pangkat dua adalah 9\n",
      "4 pangkat dua adalah 16\n",
      "5 pangkat dua adalah 25\n",
      "6 pangkat dua adalah 36\n",
      "7 pangkat dua adalah 49\n",
      "8 pangkat dua adalah 64\n",
      "9 pangkat dua adalah 81\n",
      "10 pangkat dua adalah 100\n",
      "11 pangkat dua adalah 121\n",
      "12 pangkat dua adalah 144\n",
      "13 pangkat dua adalah 169\n",
      "14 pangkat dua adalah 196\n",
      "15 pangkat dua adalah 225\n",
      "16 pangkat dua adalah 256\n",
      "17 pangkat dua adalah 289\n",
      "18 pangkat dua adalah 324\n",
      "19 pangkat dua adalah 361\n",
      "20 pangkat dua adalah 400\n",
      "21 pangkat dua adalah 441\n",
      "22 pangkat dua adalah 484\n",
      "23 pangkat dua adalah 529\n",
      "24 pangkat dua adalah 576\n",
      "25 pangkat dua adalah 625\n",
      "26 pangkat dua adalah 676\n",
      "27 pangkat dua adalah 729\n",
      "28 pangkat dua adalah 784\n",
      "29 pangkat dua adalah 841\n",
      "30 pangkat dua adalah 900\n",
      "31 pangkat dua adalah 961\n",
      "32 pangkat dua adalah 1024\n",
      "33 pangkat dua adalah 1089\n",
      "34 pangkat dua adalah 1156\n",
      "35 pangkat dua adalah 1225\n",
      "36 pangkat dua adalah 1296\n",
      "37 pangkat dua adalah 1369\n",
      "38 pangkat dua adalah 1444\n",
      "39 pangkat dua adalah 1521\n",
      "40 pangkat dua adalah 1600\n",
      "41 pangkat dua adalah 1681\n",
      "42 pangkat dua adalah 1764\n",
      "43 pangkat dua adalah 1849\n",
      "44 pangkat dua adalah 1936\n",
      "45 pangkat dua adalah 2025\n",
      "46 pangkat dua adalah 2116\n",
      "47 pangkat dua adalah 2209\n",
      "48 pangkat dua adalah 2304\n",
      "49 pangkat dua adalah 2401\n",
      "50 pangkat dua adalah 2500\n"
     ]
    }
   ],
   "source": [
    "# Kerjakan nomor 1 di sini\n",
    "for angka in range(1,51):\n",
    "    print(angka,'pangkat dua adalah', angka**2)"
   ]
  },
  {
   "attachments": {},
   "cell_type": "markdown",
   "metadata": {},
   "source": [
    "2. Buatlah sebuah list yang berisi daftar nama mahasiswa angkatan kalian minimal sejumlah 10 nama. Kemudian buat program pencarian menggunakan pengulangan, di mana apabila nama yang user inputkan sudah sesuai dengan isi list maka program akan berhenti dan menampilkan output \"Pencarian anda sudah berakhir\""
   ]
  },
  {
   "attachments": {},
   "cell_type": "markdown",
   "metadata": {},
   "source": [
    "catatan: perhatikan user dapat menginputkan menggunakan baik huruf kapital maupun tidak"
   ]
  },
  {
   "cell_type": "code",
   "execution_count": 1,
   "metadata": {},
   "outputs": [
    {
     "name": "stdout",
     "output_type": "stream",
     "text": [
      "mira\n",
      "novi\n",
      "eli\n",
      "fia\n",
      "muti\n",
      "zarla\n",
      "zalfa\n",
      "raisa\n",
      "nala\n",
      "Pencarian anda sudah berakhir\n"
     ]
    }
   ],
   "source": [
    "# Kerjakan nomor 2 di sini\n",
    "nama= ['mira','novi','eli','fia','muti','zarla','zalfa','raisa','nala','nadia','juli','mahar']\n",
    "asd = input('Nama : ')\n",
    "asd = asd.lower()\n",
    "for i in nama:\n",
    "    if asd == i:\n",
    "        print(f'{i}\\nPencarian anda sudah berakhir')\n",
    "        break\n",
    "    print(i)"
   ]
  },
  {
   "attachments": {},
   "cell_type": "markdown",
   "metadata": {},
   "source": [
    "3. Disajikan list sebagai berikut "
   ]
  },
  {
   "cell_type": "code",
   "execution_count": null,
   "metadata": {},
   "outputs": [],
   "source": [
    "bulan = ['januari', 'februari', 'maret', 'april','mei','juni','juli','agustus','september','oktober','november','desember']\n",
    "kota = ['jakarta' , 'kuala lumpur', 'bangkok', 'seoul', 'canada','london','dubai','barcelona']"
   ]
  },
  {
   "attachments": {},
   "cell_type": "markdown",
   "metadata": {},
   "source": [
    "Robert adalah seorang penyanyi terkenal. Dia merencanakan konser world tour di tahun 2024 mendatang di berbagai negara. Dengan catatan pada bulan April dan Mei, Robert kembali ke indonesia untuk istirahat sejenak kemudian melanjutkan lagi konser. Berdasarkan kasus tersebut buatlah program pengulangannya!"
   ]
  },
  {
   "cell_type": "code",
   "execution_count": 12,
   "metadata": {},
   "outputs": [
    {
     "name": "stdout",
     "output_type": "stream",
     "text": [
      "Robert akan konser di bulan januari di kota jakarta\n",
      "Robert akan konser di bulan februari di kota kuala lumpur\n",
      "Robert akan konser di bulan maret di kota bangkok\n",
      "Pada bulan april robert istirahat\n",
      "Pada bulan mei robert istirahat\n",
      "Robert akan konser di bulan juni di kota seoul\n",
      "Robert akan konser di bulan juli di kota canada\n",
      "Robert akan konser di bulan agustus di kota london\n",
      "Robert akan konser di bulan september di kota dubai\n",
      "Robert akan konser di bulan oktober di kota barcelona\n",
      "Robert akan konser di bulan november di kota canada\n",
      "Robert akan konser di bulan desember di kota london\n"
     ]
    }
   ],
   "source": [
    "# kerjakan nomor 3 di sini\n",
    "import random\n",
    "bulan = ['januari', 'februari', 'maret', 'april','mei','juni','juli','agustus','september','oktober','november','desember']\n",
    "kota = ['jakarta' , 'kuala lumpur', 'bangkok', 'seoul', 'canada','london','dubai','barcelona']\n",
    "j = 0\n",
    "for i in bulan:\n",
    "    if i in ['april', 'mei']:\n",
    "        print(f'Pada bulan {i} robert istirahat')\n",
    "        continue\n",
    "    print(f'Robert akan konser di bulan {i} di kota', kota[j])\n",
    "    j+=1\n",
    "    if j == 8:\n",
    "        j = random.randrange(0,8)"
   ]
  }
 ],
 "metadata": {
  "kernelspec": {
   "display_name": "Python 3",
   "language": "python",
   "name": "python3"
  },
  "language_info": {
   "codemirror_mode": {
    "name": "ipython",
    "version": 3
   },
   "file_extension": ".py",
   "mimetype": "text/x-python",
   "name": "python",
   "nbconvert_exporter": "python",
   "pygments_lexer": "ipython3",
   "version": "3.10.8"
  },
  "orig_nbformat": 4
 },
 "nbformat": 4,
 "nbformat_minor": 2
}
